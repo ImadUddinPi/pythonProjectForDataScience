{
 "cells": [
  {
   "attachments": {},
   "cell_type": "markdown",
   "metadata": {},
   "source": [
    "<h1>Historical Data Extraction/Visualization Stock Data</h1>"
   ]
  },
  {
   "attachments": {},
   "cell_type": "markdown",
   "metadata": {},
   "source": [
    "Imad Uddin"
   ]
  },
  {
   "attachments": {},
   "cell_type": "markdown",
   "metadata": {},
   "source": [
    "<ul>\n",
    "        <li>Define a Function that Makes a Graph</li>\n",
    "        <li>Question 1: Use yfinance to Extract Stock Data</li>\n",
    "        <li>Question 2: Use Webscraping to Extract Tesla Revenue Data</li>\n",
    "        <li>Question 3: Use yfinance to Extract Stock Data</li>\n",
    "        <li>Question 4: Use Webscraping to Extract GME Revenue Data</li>\n",
    "        <li>Question 5: Plot Tesla Stock Graph</li>\n",
    "        <li>Question 6: Plot GameStop Stock Graph</li>\n",
    "    </ul>\n"
   ]
  },
  {
   "cell_type": "code",
   "execution_count": 24,
   "metadata": {},
   "outputs": [],
   "source": [
    "import yfinance as yf\n",
    "import pandas as pd\n",
    "import requests\n",
    "from bs4 import BeautifulSoup\n",
    "import plotly.graph_objects as go\n",
    "from plotly.subplots import make_subplots"
   ]
  },
  {
   "cell_type": "code",
   "execution_count": 25,
   "metadata": {},
   "outputs": [
    {
     "data": {
      "text/html": [
       "<div>\n",
       "<style scoped>\n",
       "    .dataframe tbody tr th:only-of-type {\n",
       "        vertical-align: middle;\n",
       "    }\n",
       "\n",
       "    .dataframe tbody tr th {\n",
       "        vertical-align: top;\n",
       "    }\n",
       "\n",
       "    .dataframe thead th {\n",
       "        text-align: right;\n",
       "    }\n",
       "</style>\n",
       "<table border=\"1\" class=\"dataframe\">\n",
       "  <thead>\n",
       "    <tr style=\"text-align: right;\">\n",
       "      <th></th>\n",
       "      <th>Date</th>\n",
       "      <th>Open</th>\n",
       "      <th>High</th>\n",
       "      <th>Low</th>\n",
       "      <th>Close</th>\n",
       "      <th>Volume</th>\n",
       "      <th>Dividends</th>\n",
       "      <th>Stock Splits</th>\n",
       "    </tr>\n",
       "  </thead>\n",
       "  <tbody>\n",
       "    <tr>\n",
       "      <th>3269</th>\n",
       "      <td>2023-06-26 00:00:00-04:00</td>\n",
       "      <td>250.070007</td>\n",
       "      <td>258.369995</td>\n",
       "      <td>240.699997</td>\n",
       "      <td>241.050003</td>\n",
       "      <td>179990600</td>\n",
       "      <td>0.0</td>\n",
       "      <td>0.0</td>\n",
       "    </tr>\n",
       "    <tr>\n",
       "      <th>3270</th>\n",
       "      <td>2023-06-27 00:00:00-04:00</td>\n",
       "      <td>243.240005</td>\n",
       "      <td>250.389999</td>\n",
       "      <td>240.850006</td>\n",
       "      <td>250.210007</td>\n",
       "      <td>164968200</td>\n",
       "      <td>0.0</td>\n",
       "      <td>0.0</td>\n",
       "    </tr>\n",
       "    <tr>\n",
       "      <th>3271</th>\n",
       "      <td>2023-06-28 00:00:00-04:00</td>\n",
       "      <td>249.699997</td>\n",
       "      <td>259.880005</td>\n",
       "      <td>248.889999</td>\n",
       "      <td>256.239990</td>\n",
       "      <td>159770800</td>\n",
       "      <td>0.0</td>\n",
       "      <td>0.0</td>\n",
       "    </tr>\n",
       "    <tr>\n",
       "      <th>3272</th>\n",
       "      <td>2023-06-29 00:00:00-04:00</td>\n",
       "      <td>258.029999</td>\n",
       "      <td>260.739990</td>\n",
       "      <td>253.610001</td>\n",
       "      <td>257.500000</td>\n",
       "      <td>131283400</td>\n",
       "      <td>0.0</td>\n",
       "      <td>0.0</td>\n",
       "    </tr>\n",
       "    <tr>\n",
       "      <th>3273</th>\n",
       "      <td>2023-06-30 00:00:00-04:00</td>\n",
       "      <td>260.600006</td>\n",
       "      <td>264.450012</td>\n",
       "      <td>259.890015</td>\n",
       "      <td>261.769989</td>\n",
       "      <td>112267600</td>\n",
       "      <td>0.0</td>\n",
       "      <td>0.0</td>\n",
       "    </tr>\n",
       "  </tbody>\n",
       "</table>\n",
       "</div>"
      ],
      "text/plain": [
       "                          Date        Open        High         Low  \\\n",
       "3269 2023-06-26 00:00:00-04:00  250.070007  258.369995  240.699997   \n",
       "3270 2023-06-27 00:00:00-04:00  243.240005  250.389999  240.850006   \n",
       "3271 2023-06-28 00:00:00-04:00  249.699997  259.880005  248.889999   \n",
       "3272 2023-06-29 00:00:00-04:00  258.029999  260.739990  253.610001   \n",
       "3273 2023-06-30 00:00:00-04:00  260.600006  264.450012  259.890015   \n",
       "\n",
       "           Close     Volume  Dividends  Stock Splits  \n",
       "3269  241.050003  179990600        0.0           0.0  \n",
       "3270  250.210007  164968200        0.0           0.0  \n",
       "3271  256.239990  159770800        0.0           0.0  \n",
       "3272  257.500000  131283400        0.0           0.0  \n",
       "3273  261.769989  112267600        0.0           0.0  "
      ]
     },
     "execution_count": 25,
     "metadata": {},
     "output_type": "execute_result"
    }
   ],
   "source": [
    "#Question 1: Extract Tesla Stock Data using yFinance.\n",
    "Tesla = yf.Ticker(\"TSLA\")\n",
    "Tesla_data = Tesla.history(period=\"max\")\n",
    "Tesla_data.reset_index(inplace=True)\n",
    "Tesla_data.tail()\n"
   ]
  },
  {
   "cell_type": "code",
   "execution_count": 26,
   "metadata": {},
   "outputs": [
    {
     "name": "stdout",
     "output_type": "stream",
     "text": [
      "['Tesla Annual Revenue(Millions of US $)']\n",
      "['2022', '$81,462']\n",
      "['2021', '$53,823']\n",
      "['2020', '$31,536']\n",
      "['2019', '$24,578']\n",
      "['2018', '$21,461']\n",
      "['2017', '$11,759']\n",
      "['2016', '$7,000']\n",
      "['2015', '$4,046']\n",
      "['2014', '$3,198']\n",
      "['2013', '$2,013']\n",
      "['2012', '$413']\n",
      "['2011', '$204']\n",
      "['2010', '$117']\n",
      "['2009', '$112']\n"
     ]
    }
   ],
   "source": [
    "#Question 2 Extract Tesla Revenue data using Web Scraping\n",
    "import requests\n",
    "from bs4 import BeautifulSoup\n",
    "\n",
    "# Send a GET request to the website\n",
    "url = \"https://www.macrotrends.net/stocks/charts/TSLA/tesla/revenue\"\n",
    "response = requests.get(url)\n",
    "\n",
    "# Parse the HTML content\n",
    "soup = BeautifulSoup(response.content, \"html.parser\")\n",
    "\n",
    "# Find the table with the historical stock data\n",
    "table = soup.find(\"table\", class_=\"historical_data_table\")\n",
    "\n",
    "# Extract the table rows\n",
    "rows = table.find_all(\"tr\")\n",
    "\n",
    "# Extract the table headers\n",
    "headers = [header.text for header in rows[0].find_all(\"th\")]\n",
    "\n",
    "# Initialize an empty list to store the stock data\n",
    "stock_data = []\n",
    "\n",
    "# Iterate over the remaining rows and extract the data\n",
    "for row in rows[1:]:\n",
    "    data = [cell.text for cell in row.find_all(\"td\")]\n",
    "    stock_data.append(data)\n",
    "\n",
    "# Print the headers and stock data\n",
    "print(headers)\n",
    "for data in stock_data:\n",
    "    print(data)\n"
   ]
  },
  {
   "cell_type": "code",
   "execution_count": 27,
   "metadata": {},
   "outputs": [
    {
     "name": "stdout",
     "output_type": "stream",
     "text": [
      "[*********************100%***********************]  1 of 1 completed\n",
      "                 Open       High        Low      Close  Adj Close   Volume\n",
      "Date                                                                      \n",
      "2023-01-03  18.639999  19.260000  17.090000  17.200001  17.200001  5135200\n",
      "2023-01-04  17.250000  17.930000  16.900000  17.320000  17.320000  3939300\n",
      "2023-01-05  17.059999  17.260000  15.890000  16.219999  16.219999  6066200\n",
      "2023-01-06  16.000000  16.570000  15.410000  16.459999  16.459999  4823400\n",
      "2023-01-09  16.650000  17.129999  16.360001  16.379999  16.379999  3522600\n"
     ]
    }
   ],
   "source": [
    "# Question 3: Use yfinance to Extract Stock Data\n",
    "# Reset the index, save, and display the first five rows of the gme_data dataframe using the head function.\n",
    "\n",
    "import yfinance as yf\n",
    "\n",
    "# Define the ticker symbol for GME (GameStop)\n",
    "ticker = \"GME\"\n",
    "\n",
    "# Extract stock data using yfinance\n",
    "GME_data = yf.download(ticker, start=\"2023-01-01\", end=\"2023-06-30\")\n",
    "\n",
    "# Display the first five rows of the GME_data DataFrame\n",
    "print(GME_data.head())"
   ]
  },
  {
   "cell_type": "code",
   "execution_count": 28,
   "metadata": {},
   "outputs": [
    {
     "name": "stdout",
     "output_type": "stream",
     "text": [
      "['GameStop Annual Revenue(Millions of US $)']\n",
      "['2013', '$8,887']\n",
      "['2012', '$9,551']\n",
      "['2011', '$9,474']\n",
      "['2010', '$9,078']\n",
      "['2009', '$8,806']\n"
     ]
    }
   ],
   "source": [
    "# Question 4: Use Webscraping to Extract GME Revenue Data\n",
    "# Display the last five rows of the gme_revenue dataframe using the tail function\n",
    "import requests\n",
    "from bs4 import BeautifulSoup\n",
    "\n",
    "url = \"https://www.macrotrends.net/stocks/charts/GME/gamestop/revenue\"\n",
    "response = requests.get(url)\n",
    "\n",
    "soup = BeautifulSoup(response.content, \"html.parser\")\n",
    "\n",
    "table = soup.find(\"table\", class_=\"historical_data_table\")\n",
    "\n",
    "rows = table.find_all(\"tr\")\n",
    "\n",
    "headers = [header.text for header in rows[0].find_all(\"th\")]\n",
    "\n",
    "revenue_data = []\n",
    "\n",
    "for row in rows[1:]:\n",
    "    data = [cell.text for cell in row.find_all(\"td\")]\n",
    "    revenue_data.append(data)\n",
    "\n",
    "# Display the last rows\n",
    "n = 5  # Number of last rows to display\n",
    "last_rows = revenue_data[-n:]\n",
    "\n",
    "print(headers)\n",
    "for data in last_rows:\n",
    "    print(data)\n",
    "\n"
   ]
  },
  {
   "cell_type": "code",
   "execution_count": 29,
   "metadata": {},
   "outputs": [
    {
     "data": {
      "image/png": "[encoded data removed]",
      "text/plain": [
       "<Figure size 640x480 with 1 Axes>"
      ]
     },
     "metadata": {},
     "output_type": "display_data"
    }
   ],
   "source": [
    "# Question 5: Plot Tesla Stock Graph\n",
    "# Use the make_graph function to graph the Tesla Stock Data, also provide a title for the graph.\n",
    "import requests\n",
    "from bs4 import BeautifulSoup\n",
    "import matplotlib.pyplot as plt\n",
    "\n",
    "url = \"https://www.macrotrends.net/stocks/charts/TSLA/tesla/stock-price-history#:~:text=The%20Tesla%2052%2Dweek%20high,last%2052%20weeks%20is%20211.15.\"\n",
    "response = requests.get(url)\n",
    "\n",
    "soup = BeautifulSoup(response.content, \"html.parser\")\n",
    "\n",
    "table = soup.find(\"table\", class_=\"historical_data_table\")\n",
    "\n",
    "rows = table.find_all(\"tr\")\n",
    "\n",
    "headers = [header.text for header in rows[0].find_all(\"th\")]\n",
    "\n",
    "stock_data = []\n",
    "\n",
    "for row in rows[1:]:\n",
    "    data = [cell.text for cell in row.find_all(\"td\")]\n",
    "    if len(data) >= 5:  # Check for at least 5 data points\n",
    "        stock_data.append(data)\n",
    "\n",
    "# Extract date and close price values\n",
    "dates = [data[0] for data in stock_data]\n",
    "close_prices = [float(data[4].replace(\",\", \"\")) if len(data) >= 5 else 0.0 for data in stock_data]\n",
    "\n",
    "# Reverse the order of the lists\n",
    "dates = dates[::-1]\n",
    "close_prices = close_prices[::-1]\n",
    "\n",
    "# Plot the inverted stock data\n",
    "plt.plot(dates, close_prices)\n",
    "plt.xlabel(headers[0])\n",
    "plt.ylabel(headers[4] if len(headers) >= 5 else \"\")\n",
    "plt.title(\"Tesla Stock Price\")\n",
    "plt.xticks(rotation=45)\n",
    "plt.show()\n"
   ]
  },
  {
   "cell_type": "code",
   "execution_count": 30,
   "metadata": {},
   "outputs": [
    {
     "data": {
      "image/png": "[encoded data removed]",
      "text/plain": [
       "<Figure size 640x480 with 1 Axes>"
      ]
     },
     "metadata": {},
     "output_type": "display_data"
    }
   ],
   "source": [
    "# Question 6: Plot GameStop Stock Graph\n",
    "# Use the make_graph function to graph the GameStop Stock Data, also provide a title for the graph.\n",
    "import requests\n",
    "from bs4 import BeautifulSoup\n",
    "import matplotlib.pyplot as plt\n",
    "\n",
    "url = \"https://www.macrotrends.net/stocks/charts/GME/gamestop/revenue\"\n",
    "response = requests.get(url)\n",
    "\n",
    "soup = BeautifulSoup(response.content, \"html.parser\")\n",
    "\n",
    "table = soup.find(\"table\", class_=\"historical_data_table\")\n",
    "\n",
    "rows = table.find_all(\"tr\")\n",
    "\n",
    "revenue_data = []\n",
    "\n",
    "for row in rows:\n",
    "    data = [cell.text.strip() for cell in row.find_all(\"td\")]\n",
    "    if len(data) > 0:\n",
    "        revenue_data.append(data)\n",
    "\n",
    "# Extract year and revenue values\n",
    "headers = revenue_data[0]\n",
    "revenue_data = revenue_data[1:]  # Exclude the header row\n",
    "\n",
    "years = [data[0] for data in revenue_data]\n",
    "revenues = [int(data[1].replace(\"$\", \"\").replace(\",\", \"\")) for data in revenue_data]\n",
    "\n",
    "# Reverse the order of the lists\n",
    "years = years[::-1]\n",
    "revenues = revenues[::-1]\n",
    "\n",
    "# Plot the inverted revenue data\n",
    "plt.plot(years, revenues)\n",
    "plt.xlabel(headers[0])\n",
    "plt.ylabel(headers[1])\n",
    "plt.title(\"GameStop Revenue\")\n",
    "plt.xticks(rotation=45)\n",
    "plt.show()\n"
   ]
  }
 ],
 "metadata": {
  "kernelspec": {
   "display_name": "Python 3",
   "language": "python",
   "name": "python3"
  },
  "language_info": {
   "codemirror_mode": {
    "name": "ipython",
    "version": 3
   },
   "file_extension": ".py",
   "mimetype": "text/x-python",
   "name": "python",
   "nbconvert_exporter": "python",
   "pygments_lexer": "ipython3",
   "version": "3.11.4"
  },
  "orig_nbformat": 4
 },
 "nbformat": 4,
 "nbformat_minor": 2
}
