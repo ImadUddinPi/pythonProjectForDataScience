{
 "cells": [
  {
   "attachments": {},
   "cell_type": "markdown",
   "metadata": {},
   "source": [
    "<h1>Historical Data Extraction/Visualization Stock Data</h1>"
   ]
  },
  {
   "attachments": {},
   "cell_type": "markdown",
   "metadata": {},
   "source": [
    "Imad Uddin"
   ]
  },
  {
   "attachments": {},
   "cell_type": "markdown",
   "metadata": {},
   "source": [
    "<ul>\n",
    "        <li>Define a Function that Makes a Graph</li>\n",
    "        <li>Question 1: Use yfinance to Extract Stock Data</li>\n",
    "        <li>Question 2: Use Webscraping to Extract Tesla Revenue Data</li>\n",
    "        <li>Question 3: Use yfinance to Extract Stock Data</li>\n",
    "        <li>Question 4: Use Webscraping to Extract GME Revenue Data</li>\n",
    "        <li>Question 5: Plot Tesla Stock Graph</li>\n",
    "        <li>Question 6: Plot GameStop Stock Graph</li>\n",
    "    </ul>\n"
   ]
  },
  {
   "cell_type": "code",
   "execution_count": 40,
   "metadata": {},
   "outputs": [],
   "source": [
    "import yfinance as yf\n",
    "import pandas as pd\n",
    "import requests\n",
    "from bs4 import BeautifulSoup\n",
    "import plotly.graph_objects as go\n",
    "from plotly.subplots import make_subplots"
   ]
  },
  {
   "cell_type": "code",
   "execution_count": 47,
   "metadata": {},
   "outputs": [
    {
     "data": {
      "text/html": [
       "<div>\n",
       "<style scoped>\n",
       "    .dataframe tbody tr th:only-of-type {\n",
       "        vertical-align: middle;\n",
       "    }\n",
       "\n",
       "    .dataframe tbody tr th {\n",
       "        vertical-align: top;\n",
       "    }\n",
       "\n",
       "    .dataframe thead th {\n",
       "        text-align: right;\n",
       "    }\n",
       "</style>\n",
       "<table border=\"1\" class=\"dataframe\">\n",
       "  <thead>\n",
       "    <tr style=\"text-align: right;\">\n",
       "      <th></th>\n",
       "      <th>Date</th>\n",
       "      <th>Open</th>\n",
       "      <th>High</th>\n",
       "      <th>Low</th>\n",
       "      <th>Close</th>\n",
       "      <th>Volume</th>\n",
       "      <th>Dividends</th>\n",
       "      <th>Stock Splits</th>\n",
       "    </tr>\n",
       "  </thead>\n",
       "  <tbody>\n",
       "    <tr>\n",
       "      <th>3269</th>\n",
       "      <td>2023-06-26 00:00:00-04:00</td>\n",
       "      <td>250.070007</td>\n",
       "      <td>258.369995</td>\n",
       "      <td>240.699997</td>\n",
       "      <td>241.050003</td>\n",
       "      <td>179990600</td>\n",
       "      <td>0.0</td>\n",
       "      <td>0.0</td>\n",
       "    </tr>\n",
       "    <tr>\n",
       "      <th>3270</th>\n",
       "      <td>2023-06-27 00:00:00-04:00</td>\n",
       "      <td>243.240005</td>\n",
       "      <td>250.389999</td>\n",
       "      <td>240.850006</td>\n",
       "      <td>250.210007</td>\n",
       "      <td>164968200</td>\n",
       "      <td>0.0</td>\n",
       "      <td>0.0</td>\n",
       "    </tr>\n",
       "    <tr>\n",
       "      <th>3271</th>\n",
       "      <td>2023-06-28 00:00:00-04:00</td>\n",
       "      <td>249.699997</td>\n",
       "      <td>259.880005</td>\n",
       "      <td>248.889999</td>\n",
       "      <td>256.239990</td>\n",
       "      <td>159770800</td>\n",
       "      <td>0.0</td>\n",
       "      <td>0.0</td>\n",
       "    </tr>\n",
       "    <tr>\n",
       "      <th>3272</th>\n",
       "      <td>2023-06-29 00:00:00-04:00</td>\n",
       "      <td>258.029999</td>\n",
       "      <td>260.739990</td>\n",
       "      <td>253.610001</td>\n",
       "      <td>257.500000</td>\n",
       "      <td>131283400</td>\n",
       "      <td>0.0</td>\n",
       "      <td>0.0</td>\n",
       "    </tr>\n",
       "    <tr>\n",
       "      <th>3273</th>\n",
       "      <td>2023-06-30 00:00:00-04:00</td>\n",
       "      <td>260.600006</td>\n",
       "      <td>264.450012</td>\n",
       "      <td>259.890015</td>\n",
       "      <td>261.769989</td>\n",
       "      <td>112267600</td>\n",
       "      <td>0.0</td>\n",
       "      <td>0.0</td>\n",
       "    </tr>\n",
       "  </tbody>\n",
       "</table>\n",
       "</div>"
      ],
      "text/plain": [
       "                          Date        Open        High         Low  \\\n",
       "3269 2023-06-26 00:00:00-04:00  250.070007  258.369995  240.699997   \n",
       "3270 2023-06-27 00:00:00-04:00  243.240005  250.389999  240.850006   \n",
       "3271 2023-06-28 00:00:00-04:00  249.699997  259.880005  248.889999   \n",
       "3272 2023-06-29 00:00:00-04:00  258.029999  260.739990  253.610001   \n",
       "3273 2023-06-30 00:00:00-04:00  260.600006  264.450012  259.890015   \n",
       "\n",
       "           Close     Volume  Dividends  Stock Splits  \n",
       "3269  241.050003  179990600        0.0           0.0  \n",
       "3270  250.210007  164968200        0.0           0.0  \n",
       "3271  256.239990  159770800        0.0           0.0  \n",
       "3272  257.500000  131283400        0.0           0.0  \n",
       "3273  261.769989  112267600        0.0           0.0  "
      ]
     },
     "execution_count": 47,
     "metadata": {},
     "output_type": "execute_result"
    }
   ],
   "source": [
    "#Question 2: Extract Tesla Stock Data using yFinance.\n",
    "Tesla = yf.Ticker(\"TSLA\")\n",
    "Tesla_data = Tesla.history(period=\"max\")\n",
    "Tesla_data.reset_index(inplace=True)\n",
    "Tesla_data.tail()\n"
   ]
  },
  {
   "cell_type": "code",
   "execution_count": 42,
   "metadata": {},
   "outputs": [
    {
     "name": "stdout",
     "output_type": "stream",
     "text": [
      "['Tesla Historical Annual Stock Price Data']\n",
      "[]\n",
      "['2023', '187.2040', '108.1000', '274.4500', '108.1000', '261.7700', '112.51%']\n",
      "['2022', '263.0931', '399.9267', '399.9267', '109.1000', '123.1800', '-65.03%']\n",
      "['2021', '259.9982', '243.2567', '409.9700', '187.6667', '352.2600', '49.76%']\n",
      "['2020', '96.6657', '28.6840', '235.2233', '24.0813', '235.2233', '743.44%']\n",
      "['2019', '18.2354', '20.6747', '28.7293', '11.9313', '27.8887', '25.70%']\n",
      "['2018', '21.1540', '21.3687', '25.3047', '16.7040', '22.1867', '6.89%']\n",
      "['2017', '20.9544', '14.4660', '25.6667', '14.4660', '20.7567', '45.70%']\n",
      "['2016', '13.9845', '14.8940', '17.6947', '9.5780', '14.2460', '-10.97%']\n",
      "['2015', '15.3362', '14.6207', '18.8173', '12.3333', '16.0007', '7.91%']\n",
      "['2014', '14.8886', '10.0067', '19.0693', '9.2893', '14.8273', '47.85%']\n",
      "['2013', '6.9601', '2.3573', '12.8913', '2.1940', '10.0286', '344.14%']\n",
      "['2012', '2.0779', '1.8720', '2.5340', '1.5193', '2.2580', '18.59%']\n",
      "['2011', '1.7870', '1.7747', '2.3293', '1.4553', '1.9040', '7.25%']\n"
     ]
    }
   ],
   "source": [
    "#Question 2 Extract Tesla stock data using Web Scraping\n",
    "import requests\n",
    "from bs4 import BeautifulSoup\n",
    "\n",
    "# Send a GET request to the website\n",
    "url = \"https://www.macrotrends.net/stocks/charts/TSLA/tesla/stock-price-history#:~:text=The%20Tesla%2052%2Dweek%20high,last%2052%20weeks%20is%20211.15.\"\n",
    "response = requests.get(url)\n",
    "\n",
    "# Parse the HTML content\n",
    "soup = BeautifulSoup(response.content, \"html.parser\")\n",
    "\n",
    "# Find the table with the historical stock data\n",
    "table = soup.find(\"table\", class_=\"historical_data_table\")\n",
    "\n",
    "# Extract the table rows\n",
    "rows = table.find_all(\"tr\")\n",
    "\n",
    "# Extract the table headers\n",
    "headers = [header.text for header in rows[0].find_all(\"th\")]\n",
    "\n",
    "# Initialize an empty list to store the stock data\n",
    "stock_data = []\n",
    "\n",
    "# Iterate over the remaining rows and extract the data\n",
    "for row in rows[1:]:\n",
    "    data = [cell.text for cell in row.find_all(\"td\")]\n",
    "    stock_data.append(data)\n",
    "\n",
    "# Print the headers and stock data\n",
    "print(headers)\n",
    "for data in stock_data:\n",
    "    print(data)\n"
   ]
  },
  {
   "cell_type": "code",
   "execution_count": 43,
   "metadata": {},
   "outputs": [
    {
     "name": "stdout",
     "output_type": "stream",
     "text": [
      "                                Open       High    Low  Close   Volume  \\\n",
      "Date                                                                     \n",
      "2023-06-30 00:00:00-04:00  24.969999  25.129999  24.25  24.25  2797500   \n",
      "\n",
      "                           Dividends  Stock Splits  \n",
      "Date                                                \n",
      "2023-06-30 00:00:00-04:00        0.0           0.0  \n"
     ]
    }
   ],
   "source": [
    "#Question 3 Extracting GameStop Stock Data Using yfinance\n",
    "import yfinance as yf\n",
    "\n",
    "gamestop = yf.Ticker(\"GME\")\n",
    "gamestop_stock_data = gamestop.history(period=\"1d\")\n",
    "\n",
    "print(gamestop_stock_data)\n"
   ]
  },
  {
   "cell_type": "code",
   "execution_count": 57,
   "metadata": {},
   "outputs": [
    {
     "name": "stdout",
     "output_type": "stream",
     "text": [
      "['GameStop Annual Revenue(Millions of US $)']\n",
      "['2013', '$8,887']\n",
      "['2012', '$9,551']\n",
      "['2011', '$9,474']\n",
      "['2010', '$9,078']\n",
      "['2009', '$8,806']\n"
     ]
    }
   ],
   "source": [
    "#Question 4Extracting GameStop GME Revenue Data Using Webscraping, and showing result using tail\n",
    "import requests\n",
    "from bs4 import BeautifulSoup\n",
    "\n",
    "url = \"https://www.macrotrends.net/stocks/charts/GME/gamestop/revenue\"\n",
    "response = requests.get(url)\n",
    "\n",
    "soup = BeautifulSoup(response.content, \"html.parser\")\n",
    "\n",
    "table = soup.find(\"table\", class_=\"historical_data_table\")\n",
    "\n",
    "rows = table.find_all(\"tr\")\n",
    "\n",
    "headers = [header.text for header in rows[0].find_all(\"th\")]\n",
    "\n",
    "revenue_data = []\n",
    "\n",
    "for row in rows[1:]:\n",
    "    data = [cell.text for cell in row.find_all(\"td\")]\n",
    "    revenue_data.append(data)\n",
    "\n",
    "# Display the last rows\n",
    "n = 5  # Number of last rows to display\n",
    "last_rows = revenue_data[-n:]\n",
    "\n",
    "print(headers)\n",
    "for data in last_rows:\n",
    "    print(data)\n",
    "\n"
   ]
  },
  {
   "cell_type": "code",
   "execution_count": 45,
   "metadata": {},
   "outputs": [
    {
     "data": {
      "image/png": "[encoded data removed]",
      "text/plain": [
       "<Figure size 640x480 with 1 Axes>"
      ]
     },
     "metadata": {},
     "output_type": "display_data"
    }
   ],
   "source": [
    "#Question 5 Tesla Stock and Revenue Graph\n",
    "import requests\n",
    "from bs4 import BeautifulSoup\n",
    "import matplotlib.pyplot as plt\n",
    "\n",
    "url = \"https://www.macrotrends.net/stocks/charts/TSLA/tesla/stock-price-history#:~:text=The%20Tesla%2052%2Dweek%20high,last%2052%20weeks%20is%20211.15.\"\n",
    "response = requests.get(url)\n",
    "\n",
    "soup = BeautifulSoup(response.content, \"html.parser\")\n",
    "\n",
    "table = soup.find(\"table\", class_=\"historical_data_table\")\n",
    "\n",
    "rows = table.find_all(\"tr\")\n",
    "\n",
    "headers = [header.text for header in rows[0].find_all(\"th\")]\n",
    "\n",
    "stock_data = []\n",
    "\n",
    "for row in rows[1:]:\n",
    "    data = [cell.text for cell in row.find_all(\"td\")]\n",
    "    if len(data) >= 5:  # Check for at least 5 data points\n",
    "        stock_data.append(data)\n",
    "\n",
    "# Extract date and close price values\n",
    "dates = [data[0] for data in stock_data]\n",
    "close_prices = [float(data[4].replace(\",\", \"\")) if len(data) >= 5 else 0.0 for data in stock_data]\n",
    "\n",
    "# Plot the stock data\n",
    "plt.plot(dates, close_prices)\n",
    "plt.xlabel(headers[0])\n",
    "plt.ylabel(headers[4] if len(headers) >= 5 else \"\")\n",
    "plt.title(\"Tesla Stock Price\")\n",
    "plt.xticks(rotation=45)\n",
    "plt.show()\n"
   ]
  },
  {
   "cell_type": "code",
   "execution_count": 46,
   "metadata": {},
   "outputs": [
    {
     "data": {
      "image/png": "[encoded data removed]",
      "text/plain": [
       "<Figure size 640x480 with 1 Axes>"
      ]
     },
     "metadata": {},
     "output_type": "display_data"
    }
   ],
   "source": [
    "#Question 6 GameStop Stock and Revenue Dashboard\n",
    "import requests\n",
    "from bs4 import BeautifulSoup\n",
    "import matplotlib.pyplot as plt\n",
    "\n",
    "url = \"https://www.macrotrends.net/stocks/charts/GME/gamestop/revenue\"\n",
    "response = requests.get(url)\n",
    "\n",
    "soup = BeautifulSoup(response.content, \"html.parser\")\n",
    "\n",
    "table = soup.find(\"table\", class_=\"historical_data_table\")\n",
    "\n",
    "rows = table.find_all(\"tr\")\n",
    "\n",
    "revenue_data = []\n",
    "\n",
    "for row in rows:\n",
    "    data = [cell.text.strip() for cell in row.find_all(\"td\")]\n",
    "    if len(data) > 0:\n",
    "        revenue_data.append(data)\n",
    "\n",
    "# Extract year and revenue values\n",
    "headers = revenue_data[0]\n",
    "revenue_data = revenue_data[1:]  # Exclude the header row\n",
    "\n",
    "years = [data[0] for data in revenue_data]\n",
    "revenues = [int(data[1].replace(\"$\", \"\").replace(\",\", \"\")) for data in revenue_data]\n",
    "\n",
    "# Plot the revenue data\n",
    "plt.plot(years, revenues)\n",
    "plt.xlabel(headers[0])\n",
    "plt.ylabel(headers[1])\n",
    "plt.title(\"GameStop Revenue\")\n",
    "plt.xticks(rotation=45)\n",
    "plt.show()\n"
   ]
  },
  {
   "cell_type": "code",
   "execution_count": 48,
   "metadata": {},
   "outputs": [
    {
     "name": "stdout",
     "output_type": "stream",
     "text": [
      "[*********************100%***********************]  1 of 1 completed\n",
      "        Date     Open     High      Low    Close  Adj Close    Volume\n",
      "0 2002-02-13  2.40625  2.51500  2.38125  2.51250   1.691667  76216000\n",
      "1 2002-02-14  2.54375  2.54875  2.48125  2.50000   1.683250  11021600\n",
      "2 2002-02-15  2.50000  2.50625  2.46250  2.48750   1.674834   8389600\n",
      "3 2002-02-19  2.47500  2.47500  2.34375  2.38750   1.607504   7410400\n",
      "4 2002-02-20  2.40000  2.46875  2.38125  2.46875   1.662210   6892800\n"
     ]
    }
   ],
   "source": [
    "import yfinance as yf\n",
    "\n",
    "# Define the ticker symbol\n",
    "ticker_symbol = \"GME\"\n",
    "\n",
    "# Get the stock data\n",
    "gme_data = yf.download(ticker_symbol)\n",
    "\n",
    "# Reset the index\n",
    "gme_data.reset_index(inplace=True)\n",
    "\n",
    "# Save the data to a CSV file\n",
    "gme_data.to_csv(\"gme_stock_data.csv\", index=False)\n",
    "\n",
    "# Display the first five rows\n",
    "print(gme_data.head())\n"
   ]
  },
  {
   "attachments": {},
   "cell_type": "markdown",
   "metadata": {},
   "source": [
    "Question 4: Use Webscraping to Extract GME Revenue Data\n",
    "\n",
    "Display the last five rows of the gme_revenue dataframe using the tail function"
   ]
  },
  {
   "cell_type": "code",
   "execution_count": 49,
   "metadata": {},
   "outputs": [
    {
     "ename": "ValueError",
     "evalue": "1 columns passed, passed data had 2 columns",
     "output_type": "error",
     "traceback": [
      "\u001b[1;31m---------------------------------------------------------------------------\u001b[0m",
      "\u001b[1;31mAssertionError\u001b[0m                            Traceback (most recent call last)",
      "File \u001b[1;32mc:\\Users\\dune\\AppData\\Local\\Programs\\Python\\Python311\\Lib\\site-packages\\pandas\\core\\internals\\construction.py:934\u001b[0m, in \u001b[0;36m_finalize_columns_and_data\u001b[1;34m(content, columns, dtype)\u001b[0m\n\u001b[0;32m    933\u001b[0m \u001b[39mtry\u001b[39;00m:\n\u001b[1;32m--> 934\u001b[0m     columns \u001b[39m=\u001b[39m _validate_or_indexify_columns(contents, columns)\n\u001b[0;32m    935\u001b[0m \u001b[39mexcept\u001b[39;00m \u001b[39mAssertionError\u001b[39;00m \u001b[39mas\u001b[39;00m err:\n\u001b[0;32m    936\u001b[0m     \u001b[39m# GH#26429 do not raise user-facing AssertionError\u001b[39;00m\n",
      "File \u001b[1;32mc:\\Users\\dune\\AppData\\Local\\Programs\\Python\\Python311\\Lib\\site-packages\\pandas\\core\\internals\\construction.py:981\u001b[0m, in \u001b[0;36m_validate_or_indexify_columns\u001b[1;34m(content, columns)\u001b[0m\n\u001b[0;32m    979\u001b[0m \u001b[39mif\u001b[39;00m \u001b[39mnot\u001b[39;00m is_mi_list \u001b[39mand\u001b[39;00m \u001b[39mlen\u001b[39m(columns) \u001b[39m!=\u001b[39m \u001b[39mlen\u001b[39m(content):  \u001b[39m# pragma: no cover\u001b[39;00m\n\u001b[0;32m    980\u001b[0m     \u001b[39m# caller's responsibility to check for this...\u001b[39;00m\n\u001b[1;32m--> 981\u001b[0m     \u001b[39mraise\u001b[39;00m \u001b[39mAssertionError\u001b[39;00m(\n\u001b[0;32m    982\u001b[0m         \u001b[39mf\u001b[39m\u001b[39m\"\u001b[39m\u001b[39m{\u001b[39;00m\u001b[39mlen\u001b[39m(columns)\u001b[39m}\u001b[39;00m\u001b[39m columns passed, passed data had \u001b[39m\u001b[39m\"\u001b[39m\n\u001b[0;32m    983\u001b[0m         \u001b[39mf\u001b[39m\u001b[39m\"\u001b[39m\u001b[39m{\u001b[39;00m\u001b[39mlen\u001b[39m(content)\u001b[39m}\u001b[39;00m\u001b[39m columns\u001b[39m\u001b[39m\"\u001b[39m\n\u001b[0;32m    984\u001b[0m     )\n\u001b[0;32m    985\u001b[0m \u001b[39mif\u001b[39;00m is_mi_list:\n\u001b[0;32m    986\u001b[0m     \u001b[39m# check if nested list column, length of each sub-list should be equal\u001b[39;00m\n",
      "\u001b[1;31mAssertionError\u001b[0m: 1 columns passed, passed data had 2 columns",
      "\nThe above exception was the direct cause of the following exception:\n",
      "\u001b[1;31mValueError\u001b[0m                                Traceback (most recent call last)",
      "Cell \u001b[1;32mIn[49], line 32\u001b[0m\n\u001b[0;32m     29\u001b[0m     revenue_data\u001b[39m.\u001b[39mappend(data)\n\u001b[0;32m     31\u001b[0m \u001b[39m# Create a DataFrame from the revenue data\u001b[39;00m\n\u001b[1;32m---> 32\u001b[0m gme_revenue \u001b[39m=\u001b[39m pd\u001b[39m.\u001b[39;49mDataFrame(revenue_data, columns\u001b[39m=\u001b[39;49mheaders)\n\u001b[0;32m     34\u001b[0m \u001b[39m# Display the last five rows\u001b[39;00m\n\u001b[0;32m     35\u001b[0m \u001b[39mprint\u001b[39m(gme_revenue\u001b[39m.\u001b[39mtail())\n",
      "File \u001b[1;32mc:\\Users\\dune\\AppData\\Local\\Programs\\Python\\Python311\\Lib\\site-packages\\pandas\\core\\frame.py:782\u001b[0m, in \u001b[0;36mDataFrame.__init__\u001b[1;34m(self, data, index, columns, dtype, copy)\u001b[0m\n\u001b[0;32m    780\u001b[0m     \u001b[39mif\u001b[39;00m columns \u001b[39mis\u001b[39;00m \u001b[39mnot\u001b[39;00m \u001b[39mNone\u001b[39;00m:\n\u001b[0;32m    781\u001b[0m         columns \u001b[39m=\u001b[39m ensure_index(columns)\n\u001b[1;32m--> 782\u001b[0m     arrays, columns, index \u001b[39m=\u001b[39m nested_data_to_arrays(\n\u001b[0;32m    783\u001b[0m         \u001b[39m# error: Argument 3 to \"nested_data_to_arrays\" has incompatible\u001b[39;49;00m\n\u001b[0;32m    784\u001b[0m         \u001b[39m# type \"Optional[Collection[Any]]\"; expected \"Optional[Index]\"\u001b[39;49;00m\n\u001b[0;32m    785\u001b[0m         data,\n\u001b[0;32m    786\u001b[0m         columns,\n\u001b[0;32m    787\u001b[0m         index,  \u001b[39m# type: ignore[arg-type]\u001b[39;49;00m\n\u001b[0;32m    788\u001b[0m         dtype,\n\u001b[0;32m    789\u001b[0m     )\n\u001b[0;32m    790\u001b[0m     mgr \u001b[39m=\u001b[39m arrays_to_mgr(\n\u001b[0;32m    791\u001b[0m         arrays,\n\u001b[0;32m    792\u001b[0m         columns,\n\u001b[1;32m   (...)\u001b[0m\n\u001b[0;32m    795\u001b[0m         typ\u001b[39m=\u001b[39mmanager,\n\u001b[0;32m    796\u001b[0m     )\n\u001b[0;32m    797\u001b[0m \u001b[39melse\u001b[39;00m:\n",
      "File \u001b[1;32mc:\\Users\\dune\\AppData\\Local\\Programs\\Python\\Python311\\Lib\\site-packages\\pandas\\core\\internals\\construction.py:498\u001b[0m, in \u001b[0;36mnested_data_to_arrays\u001b[1;34m(data, columns, index, dtype)\u001b[0m\n\u001b[0;32m    495\u001b[0m \u001b[39mif\u001b[39;00m is_named_tuple(data[\u001b[39m0\u001b[39m]) \u001b[39mand\u001b[39;00m columns \u001b[39mis\u001b[39;00m \u001b[39mNone\u001b[39;00m:\n\u001b[0;32m    496\u001b[0m     columns \u001b[39m=\u001b[39m ensure_index(data[\u001b[39m0\u001b[39m]\u001b[39m.\u001b[39m_fields)\n\u001b[1;32m--> 498\u001b[0m arrays, columns \u001b[39m=\u001b[39m to_arrays(data, columns, dtype\u001b[39m=\u001b[39;49mdtype)\n\u001b[0;32m    499\u001b[0m columns \u001b[39m=\u001b[39m ensure_index(columns)\n\u001b[0;32m    501\u001b[0m \u001b[39mif\u001b[39;00m index \u001b[39mis\u001b[39;00m \u001b[39mNone\u001b[39;00m:\n",
      "File \u001b[1;32mc:\\Users\\dune\\AppData\\Local\\Programs\\Python\\Python311\\Lib\\site-packages\\pandas\\core\\internals\\construction.py:840\u001b[0m, in \u001b[0;36mto_arrays\u001b[1;34m(data, columns, dtype)\u001b[0m\n\u001b[0;32m    837\u001b[0m     data \u001b[39m=\u001b[39m [\u001b[39mtuple\u001b[39m(x) \u001b[39mfor\u001b[39;00m x \u001b[39min\u001b[39;00m data]\n\u001b[0;32m    838\u001b[0m     arr \u001b[39m=\u001b[39m _list_to_arrays(data)\n\u001b[1;32m--> 840\u001b[0m content, columns \u001b[39m=\u001b[39m _finalize_columns_and_data(arr, columns, dtype)\n\u001b[0;32m    841\u001b[0m \u001b[39mreturn\u001b[39;00m content, columns\n",
      "File \u001b[1;32mc:\\Users\\dune\\AppData\\Local\\Programs\\Python\\Python311\\Lib\\site-packages\\pandas\\core\\internals\\construction.py:937\u001b[0m, in \u001b[0;36m_finalize_columns_and_data\u001b[1;34m(content, columns, dtype)\u001b[0m\n\u001b[0;32m    934\u001b[0m     columns \u001b[39m=\u001b[39m _validate_or_indexify_columns(contents, columns)\n\u001b[0;32m    935\u001b[0m \u001b[39mexcept\u001b[39;00m \u001b[39mAssertionError\u001b[39;00m \u001b[39mas\u001b[39;00m err:\n\u001b[0;32m    936\u001b[0m     \u001b[39m# GH#26429 do not raise user-facing AssertionError\u001b[39;00m\n\u001b[1;32m--> 937\u001b[0m     \u001b[39mraise\u001b[39;00m \u001b[39mValueError\u001b[39;00m(err) \u001b[39mfrom\u001b[39;00m \u001b[39merr\u001b[39;00m\n\u001b[0;32m    939\u001b[0m \u001b[39mif\u001b[39;00m \u001b[39mlen\u001b[39m(contents) \u001b[39mand\u001b[39;00m contents[\u001b[39m0\u001b[39m]\u001b[39m.\u001b[39mdtype \u001b[39m==\u001b[39m np\u001b[39m.\u001b[39mobject_:\n\u001b[0;32m    940\u001b[0m     contents \u001b[39m=\u001b[39m convert_object_array(contents, dtype\u001b[39m=\u001b[39mdtype)\n",
      "\u001b[1;31mValueError\u001b[0m: 1 columns passed, passed data had 2 columns"
     ]
    }
   ],
   "source": [
    "import requests\n",
    "from bs4 import BeautifulSoup\n",
    "import pandas as pd\n",
    "\n",
    "# Define the URL for the revenue data\n",
    "url = \"https://www.macrotrends.net/stocks/charts/GME/gamestop/revenue\"\n",
    "\n",
    "# Send a GET request to the website\n",
    "response = requests.get(url)\n",
    "\n",
    "# Parse the HTML content\n",
    "soup = BeautifulSoup(response.content, \"html.parser\")\n",
    "\n",
    "# Find the table with the revenue data\n",
    "table = soup.find(\"table\", class_=\"historical_data_table\")\n",
    "\n",
    "# Extract the table rows\n",
    "rows = table.find_all(\"tr\")\n",
    "\n",
    "# Extract the table headers\n",
    "headers = [header.text for header in rows[0].find_all(\"th\")]\n",
    "\n",
    "# Initialize an empty list to store the revenue data\n",
    "revenue_data = []\n",
    "\n",
    "# Iterate over the remaining rows and extract the data\n",
    "for row in rows[1:]:\n",
    "    data = [cell.text for cell in row.find_all(\"td\")]\n",
    "    revenue_data.append(data)\n",
    "\n",
    "# Create a DataFrame from the revenue data\n",
    "gme_revenue = pd.DataFrame(revenue_data, columns=headers)\n",
    "\n",
    "# Display the last five rows\n",
    "print(gme_revenue.tail())\n"
   ]
  }
 ],
 "metadata": {
  "kernelspec": {
   "display_name": "Python 3",
   "language": "python",
   "name": "python3"
  },
  "language_info": {
   "codemirror_mode": {
    "name": "ipython",
    "version": 3
   },
   "file_extension": ".py",
   "mimetype": "text/x-python",
   "name": "python",
   "nbconvert_exporter": "python",
   "pygments_lexer": "ipython3",
   "version": "3.11.4"
  },
  "orig_nbformat": 4
 },
 "nbformat": 4,
 "nbformat_minor": 2
}
